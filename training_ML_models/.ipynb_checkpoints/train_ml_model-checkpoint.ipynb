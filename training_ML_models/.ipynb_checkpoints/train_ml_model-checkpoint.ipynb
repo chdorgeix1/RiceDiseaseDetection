{
 "cells": [
  {
   "cell_type": "code",
   "execution_count": 1,
   "id": "e094fdeb",
   "metadata": {},
   "outputs": [],
   "source": [
    "import numpy as np\n",
    "import tensorflow as tf\n",
    "import os\n",
    "import sklearn\n",
    "import keras\n",
    "from sklearn.metrics import confusion_matrix\n",
    "from sklearn.utils.class_weight import compute_class_weight"
   ]
  },
  {
   "cell_type": "code",
   "execution_count": 2,
   "id": "0d0b5167",
   "metadata": {},
   "outputs": [],
   "source": [
    "arr_dir = r'C:\\\\Users\\\\15404\\\\Documents\\\\GitHub\\\\RiceDiseaseDetection\\\\training_ML_models\\\\array_folder'\n",
    "os.chdir(arr_dir)"
   ]
  },
  {
   "cell_type": "code",
   "execution_count": 3,
   "id": "aefbf915",
   "metadata": {},
   "outputs": [],
   "source": [
    "X_train = np.load(\"train_processed_imgs.npy\")\n",
    "y_train_original = np.load(\"train_labels.npy\")\n",
    "X_val = np.load(\"val_processed_imgs.npy\")\n",
    "y_val = np.load(\"val_labels.npy\")"
   ]
  },
  {
   "cell_type": "code",
   "execution_count": 4,
   "id": "bc40cb3e",
   "metadata": {},
   "outputs": [],
   "source": [
    "y_true = y_val"
   ]
  },
  {
   "cell_type": "code",
   "execution_count": 5,
   "id": "16acc295",
   "metadata": {},
   "outputs": [],
   "source": [
    "from sklearn.preprocessing import LabelBinarizer\n",
    "label_as_binary = LabelBinarizer()\n",
    "y_train = label_as_binary.fit_transform(y_train_original)\n",
    "y_val = label_as_binary.fit_transform(y_val)"
   ]
  },
  {
   "cell_type": "code",
   "execution_count": 6,
   "id": "5ba734e1",
   "metadata": {},
   "outputs": [],
   "source": [
    "# Prepare the training dataset\n",
    "train_dataset = tf.data.Dataset.from_tensor_slices((X_train, y_train))\n",
    "train_dataset = train_dataset.shuffle(buffer_size=1024).batch(64)\n",
    "\n",
    "# Prepare the validation dataset\n",
    "val_dataset = tf.data.Dataset.from_tensor_slices((X_val, y_val))\n",
    "val_dataset = val_dataset.batch(64)"
   ]
  },
  {
   "cell_type": "code",
   "execution_count": 57,
   "id": "d9853ef4",
   "metadata": {},
   "outputs": [
    {
     "data": {
      "text/plain": [
       "<keras.src.regularizers.L2 at 0x1bd85836f50>"
      ]
     },
     "execution_count": 57,
     "metadata": {},
     "output_type": "execute_result"
    }
   ],
   "source": [
    "tf.keras.regularizers.L2(\n",
    "    l2=0.001\n",
    ")"
   ]
  },
  {
   "cell_type": "code",
   "execution_count": 4,
   "id": "f4bd26e6",
   "metadata": {},
   "outputs": [],
   "source": [
    "import numpy as np\n",
    "import tensorflow as tf\n",
    "import os\n",
    "import sklearn\n",
    "import keras\n",
    "from sklearn.metrics import confusion_matrix\n",
    "from sklearn.utils.class_weight import compute_class_weight\n",
    "from training_utils import *"
   ]
  },
  {
   "cell_type": "code",
   "execution_count": 8,
   "id": "56d37f12",
   "metadata": {},
   "outputs": [
    {
     "name": "stdout",
     "output_type": "stream",
     "text": [
      "here\n",
      "Model: \"sequential_5\"\n",
      "_________________________________________________________________\n",
      " Layer (type)                Output Shape              Param #   \n",
      "=================================================================\n",
      " rescaling_5 (Rescaling)     (None, 256, 256, 3)       0         \n",
      "                                                                 \n",
      " conv2d_10 (Conv2D)          (None, 246, 246, 4)       1456      \n",
      "                                                                 \n",
      " max_pooling2d_10 (MaxPooli  (None, 123, 123, 4)       0         \n",
      " ng2D)                                                           \n",
      "                                                                 \n",
      " conv2d_11 (Conv2D)          (None, 117, 117, 8)       1576      \n",
      "                                                                 \n",
      " max_pooling2d_11 (MaxPooli  (None, 58, 58, 8)         0         \n",
      " ng2D)                                                           \n",
      "                                                                 \n",
      " flatten_5 (Flatten)         (None, 26912)             0         \n",
      "                                                                 \n",
      " dense_8 (Dense)             (None, 20)                538260    \n",
      "                                                                 \n",
      " dropout_4 (Dropout)         (None, 20)                0         \n",
      "                                                                 \n",
      " dense_9 (Dense)             (None, 4)                 84        \n",
      "                                                                 \n",
      "=================================================================\n",
      "Total params: 541376 (2.07 MB)\n",
      "Trainable params: 541376 (2.07 MB)\n",
      "Non-trainable params: 0 (0.00 Byte)\n",
      "_________________________________________________________________\n"
     ]
    }
   ],
   "source": [
    "model_parameters = {\n",
    "    'layers': [\n",
    "        {'type': 'Rescaling', 'scaling_factor': 1./255},\n",
    "        {'type': 'Conv2D', 'filters': 4, 'kernel_size': 11, 'activation': 'relu'},\n",
    "        {'type': 'MaxPooling2D'},\n",
    "        {'type': 'Conv2D', 'filters': 8, 'kernel_size': 7, 'activation': 'relu'},\n",
    "        {'type': 'MaxPooling2D'},\n",
    "        {'type': 'Flatten'},\n",
    "        {'type': 'Dense', 'units': 20, 'activation': 'relu'},\n",
    "        {'type': 'Dropout', 'rate': 0.3},\n",
    "        {'type': 'Dense', 'units': 4, 'activation': 'softmax'}\n",
    "    ],\n",
    "    \n",
    "    'hyperparams' : [\n",
    "        {'optimizer': 'adam'},\n",
    "        {'learning_rate': 0.01},\n",
    "        {'batch_size': 64},\n",
    "        {'loss_func': 'categorical_crossentropy'},\n",
    "        {'metrics': 'acc'},\n",
    "    ],\n",
    "    \n",
    "    'training_config' : [\n",
    "        {'epochs': 10},\n",
    "        {'class_weights': [1,2,3,4]}\n",
    "    ]\n",
    "    \n",
    "    \n",
    "    \n",
    "}\n",
    "\n",
    "# Build the model\n",
    "# rfr = RFRModel.new_instance(params)\n",
    "CNN = CNNModel.new_instance(model_parameters)\n",
    "CNN._cnn.build(input_shape=(None, 256, 256, 3))\n",
    "CNN._cnn.summary()"
   ]
  },
  {
   "cell_type": "code",
   "execution_count": null,
   "id": "a9c5e3eb",
   "metadata": {},
   "outputs": [],
   "source": [
    "import tensorflow as tf\n",
    "\n",
    "class YourClass:\n",
    "    def __init__(self):\n",
    "        self._cnn = tf.keras.Sequential()\n",
    "\n",
    "    def compile_model(self, model_config):\n",
    "        \"\"\"\n",
    "        Compile the TensorFlow model based on the provided configuration.\n",
    "\n",
    "        Parameters:\n",
    "        - model_config (dict): Dictionary containing 'hyperparams' and 'training_config'.\n",
    "\n",
    "        Example model_config:\n",
    "        {\n",
    "            'hyperparams': [\n",
    "                {'learning_rate': 0.01},\n",
    "                {'batch_size': 64}\n",
    "            ],\n",
    "            'training_config': [\n",
    "                {'optimizer': 'adam'},\n",
    "                {'loss_func': 'categorical_crossentropy'},\n",
    "                {'metrics': 'acc'},\n",
    "                {'epochs': 10}\n",
    "            ]\n",
    "        }\n",
    "        \"\"\"\n",
    "        optimizer = None\n",
    "        loss_func = None\n",
    "        metrics = None\n",
    "        epochs = None\n",
    "\n",
    "        # Extract hyperparameters\n",
    "        for param in model_config.get('hyperparams', []):\n",
    "            for key, value in param.items():\n",
    "                if key == 'learning_rate':\n",
    "                    optimizer.lr = value\n",
    "                elif key == 'batch_size':\n",
    "                    self._batch_size = value\n",
    "\n",
    "        # Extract training configuration\n",
    "        for param in model_config.get('training_config', []):\n",
    "            for key, value in param.items():\n",
    "                if key == 'optimizer':\n",
    "                    optimizer = getattr(tf.keras.optimizers, value)()\n",
    "                elif key == 'loss_func':\n",
    "                    loss_func = value\n",
    "                elif key == 'metrics':\n",
    "                    metrics = [value]\n",
    "                elif key == 'epochs':\n",
    "                    epochs = value\n",
    "\n",
    "        # Compile the model\n",
    "        self._cnn.compile(optimizer=optimizer, loss=loss_func, metrics=metrics)\n",
    "\n",
    "# Example usage\n",
    "model_config = {\n",
    "    'hyperparams': [\n",
    "        {'learning_rate': 0.01},\n",
    "        {'batch_size': 64}\n",
    "    ],\n",
    "    'training_config': [\n",
    "        {'optimizer': 'adam'},\n",
    "        {'loss_func': 'categorical_crossentropy'},\n",
    "        {'metrics': 'acc'},\n",
    "        {'epochs': 10}\n",
    "    ]\n",
    "}\n",
    "\n",
    "# Create an instance of YourClass\n",
    "your_instance = YourClass()\n",
    "\n",
    "# Compile the model based on the provided configuration\n",
    "your_instance.compile_model(model_config)\n",
    "\n",
    "# Print the compiled model summary\n",
    "your_instance._cnn.summary()\n"
   ]
  },
  {
   "cell_type": "code",
   "execution_count": 3,
   "id": "c96fa8cb",
   "metadata": {},
   "outputs": [
    {
     "name": "stdout",
     "output_type": "stream",
     "text": [
      "Model: \"sequential_1\"\n",
      "_________________________________________________________________\n",
      " Layer (type)                Output Shape              Param #   \n",
      "=================================================================\n",
      " rescaling_1 (Rescaling)     (None, 256, 256, 3)       0         \n",
      "                                                                 \n",
      " conv2d_2 (Conv2D)           (None, 246, 246, 4)       1456      \n",
      "                                                                 \n",
      " max_pooling2d_2 (MaxPoolin  (None, 123, 123, 4)       0         \n",
      " g2D)                                                            \n",
      "                                                                 \n",
      " conv2d_3 (Conv2D)           (None, 117, 117, 8)       1576      \n",
      "                                                                 \n",
      " max_pooling2d_3 (MaxPoolin  (None, 58, 58, 8)         0         \n",
      " g2D)                                                            \n",
      "                                                                 \n",
      " flatten_1 (Flatten)         (None, 26912)             0         \n",
      "                                                                 \n",
      " dense_2 (Dense)             (None, 20)                538260    \n",
      "                                                                 \n",
      " dropout_1 (Dropout)         (None, 20)                0         \n",
      "                                                                 \n",
      " dense_3 (Dense)             (None, 4)                 84        \n",
      "                                                                 \n",
      "=================================================================\n",
      "Total params: 541376 (2.07 MB)\n",
      "Trainable params: 541376 (2.07 MB)\n",
      "Non-trainable params: 0 (0.00 Byte)\n",
      "_________________________________________________________________\n"
     ]
    }
   ],
   "source": [
    "num_classes = 4\n",
    "\n",
    "model = tf.keras.Sequential([\n",
    "  tf.keras.layers.Rescaling(1./255),\n",
    "  tf.keras.layers.Conv2D(4, 11, activation='relu'),\n",
    "  tf.keras.layers.MaxPooling2D(),\n",
    "  tf.keras.layers.Conv2D(8, 7, activation='relu'),\n",
    "  tf.keras.layers.MaxPooling2D(),\n",
    "  tf.keras.layers.Flatten(),\n",
    "  tf.keras.layers.Dense(20, activation='relu', kernel_regularizer='l2'),\n",
    "  tf.keras.layers.Dropout(0.3),\n",
    "  tf.keras.layers.Dense(4, activation = 'softmax')\n",
    "])\n",
    "\n",
    "model.build(input_shape=(None, 256, 256, 3))\n",
    "\n",
    "model.summary()"
   ]
  },
  {
   "cell_type": "code",
   "execution_count": 70,
   "id": "2318960f",
   "metadata": {},
   "outputs": [],
   "source": [
    "model.compile(\n",
    "  optimizer = keras.optimizers.Adam(learning_rate=0.002),\n",
    "  loss='categorical_crossentropy',\n",
    "  metrics='acc')"
   ]
  },
  {
   "cell_type": "code",
   "execution_count": 71,
   "id": "44f4a024",
   "metadata": {},
   "outputs": [],
   "source": [
    "class_weights = compute_class_weight(class_weight=\"balanced\", classes=np.unique(y_train_original),\n",
    "                                     y=y_train_original)"
   ]
  },
  {
   "cell_type": "code",
   "execution_count": 72,
   "id": "b116f811",
   "metadata": {},
   "outputs": [
    {
     "name": "stdout",
     "output_type": "stream",
     "text": [
      "[1.60731415 0.56323529 1.48614191 1.0758427 ]\n"
     ]
    }
   ],
   "source": [
    "print(class_weights)"
   ]
  },
  {
   "cell_type": "code",
   "execution_count": 73,
   "id": "6ce43e0d",
   "metadata": {},
   "outputs": [],
   "source": [
    "#class_weight=dict(enumerate(class_weights)), "
   ]
  },
  {
   "cell_type": "code",
   "execution_count": 74,
   "id": "8195eb0c",
   "metadata": {},
   "outputs": [
    {
     "name": "stdout",
     "output_type": "stream",
     "text": [
      "Epoch 1/30\n",
      "84/84 [==============================] - 213s 3s/step - loss: 1.5258 - acc: 0.1746 - val_loss: 1.4172 - val_acc: 0.1691\n",
      "Epoch 2/30\n",
      "84/84 [==============================] - 206s 2s/step - loss: 1.4062 - acc: 0.1604 - val_loss: 1.3990 - val_acc: 0.1573\n",
      "Epoch 3/30\n",
      "84/84 [==============================] - 202s 2s/step - loss: 1.3953 - acc: 0.2492 - val_loss: 1.3916 - val_acc: 0.1573\n",
      "Epoch 4/30\n",
      "84/84 [==============================] - 201s 2s/step - loss: 1.3902 - acc: 0.2462 - val_loss: 1.3900 - val_acc: 0.1691\n",
      "Epoch 5/30\n",
      "84/84 [==============================] - 199s 2s/step - loss: 1.3879 - acc: 0.1570 - val_loss: 1.3881 - val_acc: 0.1573\n",
      "Epoch 6/30\n",
      "84/84 [==============================] - 198s 2s/step - loss: 1.3869 - acc: 0.1951 - val_loss: 1.3860 - val_acc: 0.4421\n",
      "Epoch 7/30\n",
      "84/84 [==============================] - 202s 2s/step - loss: 1.3866 - acc: 0.1734 - val_loss: 1.3858 - val_acc: 0.1573\n",
      "Epoch 8/30\n",
      "84/84 [==============================] - 200s 2s/step - loss: 1.3866 - acc: 0.1820 - val_loss: 1.3855 - val_acc: 0.4421\n",
      "Epoch 9/30\n",
      "84/84 [==============================] - 203s 2s/step - loss: 1.3865 - acc: 0.3126 - val_loss: 1.3852 - val_acc: 0.4421\n",
      "Epoch 10/30\n",
      "84/84 [==============================] - 205s 2s/step - loss: 1.3865 - acc: 0.3652 - val_loss: 1.3856 - val_acc: 0.4421\n",
      "Epoch 11/30\n",
      "84/84 [==============================] - 196s 2s/step - loss: 1.3865 - acc: 0.2350 - val_loss: 1.3870 - val_acc: 0.2315\n",
      "Epoch 12/30\n",
      "84/84 [==============================] - 193s 2s/step - loss: 1.3865 - acc: 0.2037 - val_loss: 1.3874 - val_acc: 0.1573\n",
      "Epoch 13/30\n",
      "84/84 [==============================] - 193s 2s/step - loss: 1.3865 - acc: 0.1555 - val_loss: 1.3876 - val_acc: 0.1573\n",
      "Epoch 14/30\n",
      "84/84 [==============================] - 192s 2s/step - loss: 1.3865 - acc: 0.3219 - val_loss: 1.3867 - val_acc: 0.2315\n",
      "Epoch 15/30\n",
      "84/84 [==============================] - 193s 2s/step - loss: 1.3865 - acc: 0.2768 - val_loss: 1.3856 - val_acc: 0.4421\n",
      "Epoch 16/30\n",
      "84/84 [==============================] - 193s 2s/step - loss: 1.3866 - acc: 0.1634 - val_loss: 1.3859 - val_acc: 0.1573\n",
      "Epoch 17/30\n",
      "84/84 [==============================] - 193s 2s/step - loss: 1.3866 - acc: 0.3021 - val_loss: 1.3851 - val_acc: 0.4421\n",
      "Epoch 18/30\n",
      "84/84 [==============================] - 193s 2s/step - loss: 1.3866 - acc: 0.2824 - val_loss: 1.3843 - val_acc: 0.2315\n",
      "Epoch 19/30\n",
      "84/84 [==============================] - 192s 2s/step - loss: 1.3865 - acc: 0.2827 - val_loss: 1.3869 - val_acc: 0.1691\n",
      "Epoch 20/30\n",
      "84/84 [==============================] - 192s 2s/step - loss: 1.3865 - acc: 0.2264 - val_loss: 1.3864 - val_acc: 0.2315\n",
      "Epoch 21/30\n",
      "84/84 [==============================] - 194s 2s/step - loss: 1.3865 - acc: 0.2324 - val_loss: 1.3863 - val_acc: 0.2315\n",
      "Epoch 22/30\n",
      "84/84 [==============================] - 194s 2s/step - loss: 1.3865 - acc: 0.1831 - val_loss: 1.3873 - val_acc: 0.1691\n",
      "Epoch 23/30\n",
      "84/84 [==============================] - 194s 2s/step - loss: 1.3867 - acc: 0.2055 - val_loss: 1.3861 - val_acc: 0.1691\n",
      "Epoch 24/30\n",
      "84/84 [==============================] - 194s 2s/step - loss: 1.3866 - acc: 0.1772 - val_loss: 1.3862 - val_acc: 0.2315\n",
      "Epoch 25/30\n",
      "84/84 [==============================] - 195s 2s/step - loss: 1.3866 - acc: 0.1802 - val_loss: 1.3868 - val_acc: 0.1691\n",
      "Epoch 26/30\n",
      "84/84 [==============================] - 204s 2s/step - loss: 1.3865 - acc: 0.2115 - val_loss: 1.3851 - val_acc: 0.4421\n",
      "Epoch 27/30\n",
      "84/84 [==============================] - 206s 2s/step - loss: 1.3866 - acc: 0.2253 - val_loss: 1.3851 - val_acc: 0.4421\n",
      "Epoch 28/30\n",
      "84/84 [==============================] - 207s 2s/step - loss: 1.3866 - acc: 0.2286 - val_loss: 1.3851 - val_acc: 0.4421\n",
      "Epoch 29/30\n",
      "84/84 [==============================] - 200s 2s/step - loss: 1.3865 - acc: 0.3596 - val_loss: 1.3865 - val_acc: 0.2315\n",
      "Epoch 30/30\n",
      "84/84 [==============================] - 205s 2s/step - loss: 1.3866 - acc: 0.1518 - val_loss: 1.3863 - val_acc: 0.1573\n"
     ]
    }
   ],
   "source": [
    "history = model.fit(X_train, y_train, epochs=30, class_weight=dict(enumerate(class_weights)), validation_data=(X_val, y_val))"
   ]
  },
  {
   "cell_type": "code",
   "execution_count": 75,
   "id": "4aef2f59",
   "metadata": {},
   "outputs": [
    {
     "data": {
      "image/png": "[encoded data removed]",
      "text/plain": [
       "<Figure size 640x480 with 1 Axes>"
      ]
     },
     "metadata": {},
     "output_type": "display_data"
    }
   ],
   "source": [
    "#  \"Accuracy\"\n",
    "import matplotlib.pyplot as plt\n",
    "plt.plot(history.history['acc'])\n",
    "plt.plot(history.history['val_acc'])\n",
    "plt.title('model accuracy')\n",
    "plt.ylabel('accuracy')\n",
    "plt.xlabel('epoch')\n",
    "plt.legend(['train', 'validation'], loc='upper left')\n",
    "plt.show()"
   ]
  },
  {
   "cell_type": "code",
   "execution_count": null,
   "id": "c84b9ed8",
   "metadata": {},
   "outputs": [],
   "source": [
    "# \"Loss\"\n",
    "plt.plot(history.history['loss'])\n",
    "plt.plot(history.history['val_loss'])\n",
    "plt.title('model loss')\n",
    "plt.ylabel('loss')\n",
    "plt.xlabel('epoch')\n",
    "plt.legend(['train', 'validation'], loc='upper left')\n",
    "plt.show()"
   ]
  },
  {
   "cell_type": "code",
   "execution_count": 158,
   "id": "82f3176e",
   "metadata": {},
   "outputs": [
    {
     "name": "stdout",
     "output_type": "stream",
     "text": [
      "11/11 [==============================] - 1s 67ms/step\n"
     ]
    }
   ],
   "source": [
    "y_pred = model.predict(X_val)\n",
    "y_pred = np.argmax(y_pred, axis=1)"
   ]
  },
  {
   "cell_type": "code",
   "execution_count": 159,
   "id": "08bbc736",
   "metadata": {},
   "outputs": [
    {
     "data": {
      "text/plain": [
       "array([[25, 15,  3, 10],\n",
       "       [14, 57, 36, 42],\n",
       "       [ 6, 22, 19, 10],\n",
       "       [12, 24, 14, 28]], dtype=int64)"
      ]
     },
     "execution_count": 159,
     "metadata": {},
     "output_type": "execute_result"
    }
   ],
   "source": [
    "confusion_matrix(y_true, y_pred)"
   ]
  },
  {
   "cell_type": "code",
   "execution_count": 160,
   "id": "98d39d6e",
   "metadata": {},
   "outputs": [
    {
     "name": "stdout",
     "output_type": "stream",
     "text": [
      "84/84 [==============================] - 6s 69ms/step\n"
     ]
    }
   ],
   "source": [
    "y_train_pred = model.predict(X_train)\n",
    "y_train_pred = np.argmax(y_train_pred, axis=1)"
   ]
  },
  {
   "cell_type": "code",
   "execution_count": 162,
   "id": "f28c402e",
   "metadata": {},
   "outputs": [
    {
     "data": {
      "text/plain": [
       "array([[389,  10,   7,  11],\n",
       "       [ 59, 904, 108, 119],\n",
       "       [ 13,  13, 392,  33],\n",
       "       [ 38,  33,  20, 532]], dtype=int64)"
      ]
     },
     "execution_count": 162,
     "metadata": {},
     "output_type": "execute_result"
    }
   ],
   "source": [
    "confusion_matrix(y_train_original, y_train_pred)"
   ]
  },
  {
   "cell_type": "code",
   "execution_count": null,
   "id": "0814f29a",
   "metadata": {},
   "outputs": [],
   "source": []
  }
 ],
 "metadata": {
  "kernelspec": {
   "display_name": "Python 3 (ipykernel)",
   "language": "python",
   "name": "python3"
  },
  "language_info": {
   "codemirror_mode": {
    "name": "ipython",
    "version": 3
   },
   "file_extension": ".py",
   "mimetype": "text/x-python",
   "name": "python",
   "nbconvert_exporter": "python",
   "pygments_lexer": "ipython3",
   "version": "3.11.5"
  }
 },
 "nbformat": 4,
 "nbformat_minor": 5
}
