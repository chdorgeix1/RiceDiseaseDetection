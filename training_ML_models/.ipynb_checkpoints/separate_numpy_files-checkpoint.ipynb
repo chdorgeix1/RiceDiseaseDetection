{
 "cells": [
  {
   "cell_type": "code",
   "execution_count": 5,
   "id": "c4d90ffc",
   "metadata": {},
   "outputs": [],
   "source": [
    "import numpy as np"
   ]
  },
  {
   "cell_type": "code",
   "execution_count": 12,
   "id": "74161ed5",
   "metadata": {},
   "outputs": [],
   "source": [
    "training_data = np.load(\"./array_folder/train_processed_imgs.npy\")"
   ]
  },
  {
   "cell_type": "code",
   "execution_count": 16,
   "id": "0606d3bc",
   "metadata": {},
   "outputs": [],
   "source": [
    "t1 = training_data[0:1000]\n",
    "t2 = training_data[1000:2000]\n",
    "t3 = training_data[2000:]"
   ]
  },
  {
   "cell_type": "code",
   "execution_count": 18,
   "id": "9daf9d7c",
   "metadata": {},
   "outputs": [],
   "source": [
    "np.save('./array_folder/training_data_p1.npy', t1)\n",
    "np.save('./array_folder/training_data_p2.npy', t2)\n",
    "np.save('./array_folder/training_data_p3.npy', t3)"
   ]
  }
 ],
 "metadata": {
  "kernelspec": {
   "display_name": "Python 3 (ipykernel)",
   "language": "python",
   "name": "python3"
  },
  "language_info": {
   "codemirror_mode": {
    "name": "ipython",
    "version": 3
   },
   "file_extension": ".py",
   "mimetype": "text/x-python",
   "name": "python",
   "nbconvert_exporter": "python",
   "pygments_lexer": "ipython3",
   "version": "3.11.5"
  }
 },
 "nbformat": 4,
 "nbformat_minor": 5
}
