{
 "cells": [
  {
   "cell_type": "code",
   "execution_count": 3,
   "id": "1509320f",
   "metadata": {},
   "outputs": [],
   "source": [
    "import os"
   ]
  },
  {
   "cell_type": "code",
   "execution_count": 4,
   "id": "4d6cc6a6",
   "metadata": {},
   "outputs": [],
   "source": [
    "train_dir = r'C:\\Users\\15404\\Documents\\GitHub\\RiceDiseaseDetection\\rice_data\\training_images\\\\'\n",
    "val_dir = r'C:\\Users\\15404\\Documents\\GitHub\\RiceDiseaseDetection\\rice_data\\validation_images\\\\'\n",
    "img_dir = ['_Brownspot', '_Healthy', '_Hispa', '_LeafBlast']"
   ]
  },
  {
   "cell_type": "code",
   "execution_count": null,
   "id": "002d05ff",
   "metadata": {},
   "outputs": [],
   "source": [
    "def import_dataset(main_directory, image_directories):\n",
    "    "
   ]
  },
  {
   "cell_type": "code",
   "execution_count": null,
   "id": "7129a33a",
   "metadata": {},
   "outputs": [],
   "source": [
    "def convert_dataset(main_directory, image_directories):\n"
   ]
  },
  {
   "cell_type": "markdown",
   "id": "ca128adf",
   "metadata": {},
   "source": [
    "### Image Preprocessing\n",
    "- Import Dataset\n",
    "- Create Array of Labels\n",
    "- Convert Pixel Values\n",
    "- Standard Scaler"
   ]
  },
  {
   "cell_type": "code",
   "execution_count": null,
   "id": "5a00903d",
   "metadata": {},
   "outputs": [],
   "source": []
  }
 ],
 "metadata": {
  "kernelspec": {
   "display_name": "Python 3 (ipykernel)",
   "language": "python",
   "name": "python3"
  },
  "language_info": {
   "codemirror_mode": {
    "name": "ipython",
    "version": 3
   },
   "file_extension": ".py",
   "mimetype": "text/x-python",
   "name": "python",
   "nbconvert_exporter": "python",
   "pygments_lexer": "ipython3",
   "version": "3.11.5"
  }
 },
 "nbformat": 4,
 "nbformat_minor": 5
}
