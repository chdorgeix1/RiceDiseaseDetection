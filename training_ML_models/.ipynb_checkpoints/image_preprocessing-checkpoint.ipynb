{
 "cells": [
  {
   "cell_type": "code",
   "execution_count": 1,
   "id": "10c83a05",
   "metadata": {},
   "outputs": [],
   "source": [
    "import os\n",
    "import cv2\n",
    "import numpy as np\n",
    "import matplotlib.pyplot as plt\n",
    "\n",
    "from image_preprocessing_scripts import Utils"
   ]
  },
  {
   "cell_type": "markdown",
   "id": "a3c6d00c",
   "metadata": {},
   "source": [
    "### Image Preprocessing\n",
    "- Import Datasets\n",
    "- Create Arrays of Labels\n",
    "- Combine Datasets"
   ]
  },
  {
   "cell_type": "code",
   "execution_count": 2,
   "id": "4d6cc6a6",
   "metadata": {},
   "outputs": [],
   "source": [
    "train_dir = r'C:\\Users\\15404\\Documents\\GitHub\\RiceDiseaseDetection\\rice_data\\training_images\\\\'\n",
    "val_dir = r'C:\\Users\\15404\\Documents\\GitHub\\RiceDiseaseDetection\\rice_data\\validation_images\\\\'\n",
    "arr_dir = r'C:\\\\Users\\\\15404\\\\Documents\\\\GitHub\\\\RiceDiseaseDetection\\\\training_ML_models\\\\array_folder'\n",
    "img_dirs = ['_Brownspot', '_Healthy', '_Hispa', '_LeafBlast']"
   ]
  },
  {
   "cell_type": "code",
   "execution_count": 3,
   "id": "ce25ed8f",
   "metadata": {
    "scrolled": false
   },
   "outputs": [
    {
     "name": "stdout",
     "output_type": "stream",
     "text": [
      "(0, '_Brownspot')\n",
      "(1, '_Healthy')\n",
      "(2, '_Hispa')\n",
      "(3, '_LeafBlast')\n"
     ]
    }
   ],
   "source": [
    "for img_dir in enumerate(img_dirs):\n",
    "    print(img_dir)"
   ]
  },
  {
   "cell_type": "markdown",
   "id": "870275d7",
   "metadata": {},
   "source": [
    "## Process Training Data"
   ]
  },
  {
   "cell_type": "code",
   "execution_count": 4,
   "id": "6b5a2c10",
   "metadata": {},
   "outputs": [],
   "source": [
    "train_datasets = Utils.import_datasets(train_dir, img_dirs)"
   ]
  },
  {
   "cell_type": "code",
   "execution_count": 5,
   "id": "90cf4124",
   "metadata": {},
   "outputs": [],
   "source": [
    "train_label_array = Utils.create_label_array(train_datasets)"
   ]
  },
  {
   "cell_type": "code",
   "execution_count": 6,
   "id": "337d58aa",
   "metadata": {},
   "outputs": [],
   "source": [
    "train_combined_list = Utils.combine_lists(train_datasets)"
   ]
  },
  {
   "cell_type": "code",
   "execution_count": 7,
   "id": "803f4c5b",
   "metadata": {},
   "outputs": [],
   "source": [
    "train_combined_arr = Utils.lists_to_array(train_combined_list)"
   ]
  },
  {
   "cell_type": "code",
   "execution_count": 8,
   "id": "793e7e7a",
   "metadata": {
    "scrolled": true
   },
   "outputs": [
    {
     "data": {
      "text/plain": [
       "(2681, 256, 256, 3)"
      ]
     },
     "execution_count": 8,
     "metadata": {},
     "output_type": "execute_result"
    }
   ],
   "source": [
    "train_combined_arr.shape"
   ]
  },
  {
   "cell_type": "code",
   "execution_count": 9,
   "id": "6e923458",
   "metadata": {},
   "outputs": [
    {
     "data": {
      "text/plain": [
       "(2681,)"
      ]
     },
     "execution_count": 9,
     "metadata": {},
     "output_type": "execute_result"
    }
   ],
   "source": [
    "train_label_array.shape"
   ]
  },
  {
   "cell_type": "code",
   "execution_count": 10,
   "id": "b077d58b",
   "metadata": {},
   "outputs": [],
   "source": [
    "os.chdir(arr_dir)"
   ]
  },
  {
   "cell_type": "code",
   "execution_count": 11,
   "id": "c4d16712",
   "metadata": {},
   "outputs": [],
   "source": [
    "np.save(\"train_processed_imgs.npy\", train_combined_arr)"
   ]
  },
  {
   "cell_type": "code",
   "execution_count": 12,
   "id": "95f7de58",
   "metadata": {},
   "outputs": [],
   "source": [
    "np.save(\"train_labels.npy\", train_label_array)"
   ]
  },
  {
   "cell_type": "markdown",
   "id": "d0245202",
   "metadata": {},
   "source": [
    "## Process Validation Data"
   ]
  },
  {
   "cell_type": "code",
   "execution_count": 13,
   "id": "68d26459",
   "metadata": {},
   "outputs": [],
   "source": [
    "val_datasets = Utils.import_datasets(val_dir, img_dirs)"
   ]
  },
  {
   "cell_type": "code",
   "execution_count": 14,
   "id": "58e74db9",
   "metadata": {},
   "outputs": [],
   "source": [
    "val_label_array = Utils.create_label_array(val_datasets)"
   ]
  },
  {
   "cell_type": "code",
   "execution_count": 15,
   "id": "b9609f5b",
   "metadata": {},
   "outputs": [],
   "source": [
    "val_combined_list = Utils.combine_lists(val_datasets)"
   ]
  },
  {
   "cell_type": "code",
   "execution_count": 16,
   "id": "36bbd0a9",
   "metadata": {},
   "outputs": [],
   "source": [
    "val_combined_arr = Utils.lists_to_array(val_combined_list)"
   ]
  },
  {
   "cell_type": "code",
   "execution_count": 17,
   "id": "2d45834f",
   "metadata": {},
   "outputs": [
    {
     "data": {
      "text/plain": [
       "(337, 256, 256, 3)"
      ]
     },
     "execution_count": 17,
     "metadata": {},
     "output_type": "execute_result"
    }
   ],
   "source": [
    "val_combined_arr.shape"
   ]
  },
  {
   "cell_type": "code",
   "execution_count": 18,
   "id": "154a7440",
   "metadata": {},
   "outputs": [
    {
     "data": {
      "text/plain": [
       "(337,)"
      ]
     },
     "execution_count": 18,
     "metadata": {},
     "output_type": "execute_result"
    }
   ],
   "source": [
    "val_label_array.shape"
   ]
  },
  {
   "cell_type": "code",
   "execution_count": 19,
   "id": "d5f89d55",
   "metadata": {},
   "outputs": [],
   "source": [
    "os.chdir(arr_dir)"
   ]
  },
  {
   "cell_type": "code",
   "execution_count": 20,
   "id": "0f13ca92",
   "metadata": {},
   "outputs": [],
   "source": [
    "np.save(\"val_processed_imgs.npy\", val_combined_arr)"
   ]
  },
  {
   "cell_type": "code",
   "execution_count": 21,
   "id": "fbee742c",
   "metadata": {},
   "outputs": [],
   "source": [
    "np.save(\"val_labels.npy\", val_label_array)"
   ]
  },
  {
   "cell_type": "code",
   "execution_count": null,
   "id": "26fbb72b",
   "metadata": {},
   "outputs": [],
   "source": []
  }
 ],
 "metadata": {
  "kernelspec": {
   "display_name": "Python 3 (ipykernel)",
   "language": "python",
   "name": "python3"
  },
  "language_info": {
   "codemirror_mode": {
    "name": "ipython",
    "version": 3
   },
   "file_extension": ".py",
   "mimetype": "text/x-python",
   "name": "python",
   "nbconvert_exporter": "python",
   "pygments_lexer": "ipython3",
   "version": "3.11.5"
  }
 },
 "nbformat": 4,
 "nbformat_minor": 5
}
