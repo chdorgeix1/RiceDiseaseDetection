{
 "cells": [
  {
   "cell_type": "code",
   "execution_count": 143,
   "id": "10c83a05",
   "metadata": {},
   "outputs": [],
   "source": [
    "import os\n",
    "import cv2\n",
    "import numpy as np\n",
    "import matplotlib.pyplot as plt\n",
    "\n",
    "from image_preprocessing_scripts import *"
   ]
  },
  {
   "cell_type": "markdown",
   "id": "a3c6d00c",
   "metadata": {},
   "source": [
    "### Image Preprocessing\n",
    "- Import Datasets\n",
    "- Create Arrays of Labels\n",
    "- Combine Datasets"
   ]
  },
  {
   "cell_type": "code",
   "execution_count": 144,
   "id": "4d6cc6a6",
   "metadata": {},
   "outputs": [],
   "source": [
    "current_dir = r'C:\\\\Users\\\\15404\\\\Documents\\\\GitHub\\\\RiceDiseaseDetection\\\\training_ML_models'\n",
    "train_dir = r'C:\\Users\\15404\\Documents\\GitHub\\RiceDiseaseDetection\\rice_data\\training_images\\\\'\n",
    "val_dir = r'C:\\Users\\15404\\Documents\\GitHub\\RiceDiseaseDetection\\rice_data\\validation_images\\\\'\n",
    "\n",
    "img_dirs = ['_Brownspot', '_Healthy', '_Hispa', '_LeafBlast']"
   ]
  },
  {
   "cell_type": "code",
   "execution_count": 145,
   "id": "ce25ed8f",
   "metadata": {
    "scrolled": false
   },
   "outputs": [
    {
     "name": "stdout",
     "output_type": "stream",
     "text": [
      "(0, '_Brownspot')\n",
      "(1, '_Healthy')\n",
      "(2, '_Hispa')\n",
      "(3, '_LeafBlast')\n"
     ]
    }
   ],
   "source": [
    "for img_dir in enumerate(img_dirs):\n",
    "    print(img_dir)"
   ]
  },
  {
   "cell_type": "code",
   "execution_count": 146,
   "id": "6b5a2c10",
   "metadata": {},
   "outputs": [],
   "source": [
    "train_datasets = import_datasets(train_dir, img_dirs)"
   ]
  },
  {
   "cell_type": "code",
   "execution_count": 147,
   "id": "90cf4124",
   "metadata": {},
   "outputs": [],
   "source": [
    "label_array = create_label_array(train_datasets)"
   ]
  },
  {
   "cell_type": "code",
   "execution_count": 148,
   "id": "337d58aa",
   "metadata": {},
   "outputs": [],
   "source": [
    "combined_list = combine_lists(train_datasets)"
   ]
  },
  {
   "cell_type": "code",
   "execution_count": 149,
   "id": "803f4c5b",
   "metadata": {},
   "outputs": [],
   "source": [
    "combined_arr = lists_to_array(combined_list)"
   ]
  },
  {
   "cell_type": "code",
   "execution_count": 150,
   "id": "793e7e7a",
   "metadata": {
    "scrolled": true
   },
   "outputs": [
    {
     "data": {
      "text/plain": [
       "(2681, 256, 256, 3)"
      ]
     },
     "execution_count": 150,
     "metadata": {},
     "output_type": "execute_result"
    }
   ],
   "source": [
    "combined_arr.shape"
   ]
  },
  {
   "cell_type": "code",
   "execution_count": 151,
   "id": "6e923458",
   "metadata": {},
   "outputs": [
    {
     "data": {
      "text/plain": [
       "(2681,)"
      ]
     },
     "execution_count": 151,
     "metadata": {},
     "output_type": "execute_result"
    }
   ],
   "source": [
    "label_array.shape"
   ]
  },
  {
   "cell_type": "code",
   "execution_count": 152,
   "id": "b077d58b",
   "metadata": {},
   "outputs": [],
   "source": [
    "os.chdir(current_dir)"
   ]
  },
  {
   "cell_type": "code",
   "execution_count": 153,
   "id": "c4d16712",
   "metadata": {},
   "outputs": [],
   "source": [
    "np.save(\"processed_imgs.npy\", combined_arr)"
   ]
  },
  {
   "cell_type": "code",
   "execution_count": 154,
   "id": "95f7de58",
   "metadata": {},
   "outputs": [],
   "source": [
    "np.save(\"labels.npy\", label_array)"
   ]
  }
 ],
 "metadata": {
  "kernelspec": {
   "display_name": "Python 3 (ipykernel)",
   "language": "python",
   "name": "python3"
  },
  "language_info": {
   "codemirror_mode": {
    "name": "ipython",
    "version": 3
   },
   "file_extension": ".py",
   "mimetype": "text/x-python",
   "name": "python",
   "nbconvert_exporter": "python",
   "pygments_lexer": "ipython3",
   "version": "3.11.5"
  }
 },
 "nbformat": 4,
 "nbformat_minor": 5
}
