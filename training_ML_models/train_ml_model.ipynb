{
 "cells": [
  {
   "cell_type": "code",
   "execution_count": 30,
   "id": "e094fdeb",
   "metadata": {},
   "outputs": [],
   "source": [
    "import numpy as np\n",
    "import tensorflow as tf\n",
    "import os\n",
    "import sklearn\n",
    "import keras\n",
    "from sklearn.metrics import confusion_matrix\n",
    "from sklearn.utils.class_weight import compute_class_weight\n",
    "import numpy as np\n",
    "import tensorflow as tf\n",
    "import os\n",
    "import sklearn\n",
    "import keras\n",
    "from sklearn.metrics import confusion_matrix\n",
    "from sklearn.utils.class_weight import compute_class_weight\n",
    "from training_utils import *\n",
    "from keras.models import Sequential\n",
    "from keras.layers import Dense, Dropout, LSTM, BatchNormalization\n",
    "from keras.callbacks import TensorBoard\n",
    "from keras.callbacks import ModelCheckpoint\n",
    "from keras.optimizers import Adam\n",
    "from sklearn.preprocessing import LabelBinarizer"
   ]
  },
  {
   "cell_type": "code",
   "execution_count": 31,
   "id": "aefbf915",
   "metadata": {},
   "outputs": [],
   "source": [
    "X_train = np.load(\"train_processed_imgs.npy\")\n",
    "y_train_original = np.load(\"train_labels.npy\")\n",
    "X_val = np.load(\"val_processed_imgs.npy\")\n",
    "y_val = np.load(\"val_labels.npy\")"
   ]
  },
  {
   "cell_type": "code",
   "execution_count": 54,
   "id": "c6ef2144",
   "metadata": {},
   "outputs": [],
   "source": [
    "training_1 = X_train[0:1000]\n",
    "training_2 = X_train[1000:2000]\n",
    "training_3 = X_train[2000:]"
   ]
  },
  {
   "cell_type": "code",
   "execution_count": 55,
   "id": "906e6820",
   "metadata": {},
   "outputs": [
    {
     "data": {
      "text/plain": [
       "(1000, 256, 256, 3)"
      ]
     },
     "execution_count": 55,
     "metadata": {},
     "output_type": "execute_result"
    }
   ],
   "source": [
    "training_1.shape\n",
    "training_2.shape"
   ]
  },
  {
   "cell_type": "code",
   "execution_count": 58,
   "id": "4b5f9b6d",
   "metadata": {},
   "outputs": [
    {
     "data": {
      "text/plain": [
       "(2681, 256, 256, 3)"
      ]
     },
     "execution_count": 58,
     "metadata": {},
     "output_type": "execute_result"
    }
   ],
   "source": [
    "test_train = np.concatenate((training_1, training_2, training_3), axis=0)\n",
    "test_train.shape"
   ]
  },
  {
   "cell_type": "code",
   "execution_count": 29,
   "id": "0754aaab",
   "metadata": {},
   "outputs": [
    {
     "ename": "ValueError",
     "evalue": "Expected 1D or 2D array, got 4D array instead",
     "output_type": "error",
     "traceback": [
      "\u001b[1;31m---------------------------------------------------------------------------\u001b[0m",
      "\u001b[1;31mValueError\u001b[0m                                Traceback (most recent call last)",
      "Cell \u001b[1;32mIn[29], line 1\u001b[0m\n\u001b[1;32m----> 1\u001b[0m np\u001b[38;5;241m.\u001b[39msavetxt(\u001b[38;5;124m\"\u001b[39m\u001b[38;5;124mtesting_data.csv\u001b[39m\u001b[38;5;124m\"\u001b[39m, X_train, delimiter\u001b[38;5;241m=\u001b[39m\u001b[38;5;124m\"\u001b[39m\u001b[38;5;124m,\u001b[39m\u001b[38;5;124m\"\u001b[39m)\n",
      "File \u001b[1;32m<__array_function__ internals>:200\u001b[0m, in \u001b[0;36msavetxt\u001b[1;34m(*args, **kwargs)\u001b[0m\n",
      "File \u001b[1;32m~\\anaconda3.1\\envs\\rice_env\\Lib\\site-packages\\numpy\\lib\\npyio.py:1555\u001b[0m, in \u001b[0;36msavetxt\u001b[1;34m(fname, X, fmt, delimiter, newline, header, footer, comments, encoding)\u001b[0m\n\u001b[0;32m   1553\u001b[0m \u001b[38;5;66;03m# Handle 1-dimensional arrays\u001b[39;00m\n\u001b[0;32m   1554\u001b[0m \u001b[38;5;28;01mif\u001b[39;00m X\u001b[38;5;241m.\u001b[39mndim \u001b[38;5;241m==\u001b[39m \u001b[38;5;241m0\u001b[39m \u001b[38;5;129;01mor\u001b[39;00m X\u001b[38;5;241m.\u001b[39mndim \u001b[38;5;241m>\u001b[39m \u001b[38;5;241m2\u001b[39m:\n\u001b[1;32m-> 1555\u001b[0m     \u001b[38;5;28;01mraise\u001b[39;00m \u001b[38;5;167;01mValueError\u001b[39;00m(\n\u001b[0;32m   1556\u001b[0m         \u001b[38;5;124m\"\u001b[39m\u001b[38;5;124mExpected 1D or 2D array, got \u001b[39m\u001b[38;5;132;01m%d\u001b[39;00m\u001b[38;5;124mD array instead\u001b[39m\u001b[38;5;124m\"\u001b[39m \u001b[38;5;241m%\u001b[39m X\u001b[38;5;241m.\u001b[39mndim)\n\u001b[0;32m   1557\u001b[0m \u001b[38;5;28;01melif\u001b[39;00m X\u001b[38;5;241m.\u001b[39mndim \u001b[38;5;241m==\u001b[39m \u001b[38;5;241m1\u001b[39m:\n\u001b[0;32m   1558\u001b[0m     \u001b[38;5;66;03m# Common case -- 1d array of numbers\u001b[39;00m\n\u001b[0;32m   1559\u001b[0m     \u001b[38;5;28;01mif\u001b[39;00m X\u001b[38;5;241m.\u001b[39mdtype\u001b[38;5;241m.\u001b[39mnames \u001b[38;5;129;01mis\u001b[39;00m \u001b[38;5;28;01mNone\u001b[39;00m:\n",
      "\u001b[1;31mValueError\u001b[0m: Expected 1D or 2D array, got 4D array instead"
     ]
    }
   ],
   "source": [
    "np.savetxt(\"testing_data.csv\", X_train, delimiter=\",\")"
   ]
  },
  {
   "cell_type": "code",
   "execution_count": 4,
   "id": "bc40cb3e",
   "metadata": {},
   "outputs": [],
   "source": [
    "y_true = y_val"
   ]
  },
  {
   "cell_type": "code",
   "execution_count": 5,
   "id": "16acc295",
   "metadata": {},
   "outputs": [],
   "source": [
    "label_as_binary = LabelBinarizer()\n",
    "y_train = label_as_binary.fit_transform(y_train_original)\n",
    "y_val = label_as_binary.fit_transform(y_val)"
   ]
  },
  {
   "cell_type": "code",
   "execution_count": null,
   "id": "905d71f8",
   "metadata": {},
   "outputs": [],
   "source": [
    "datasets = {'X_train': X_train, 'y_train': y_train, 'X_val': X_val, 'y_val': y_val}"
   ]
  },
  {
   "cell_type": "code",
   "execution_count": 3,
   "id": "07ae47af",
   "metadata": {},
   "outputs": [],
   "source": [
    "model_parameters = {\n",
    "    'layers': [\n",
    "        {'type': 'Rescaling', 'scaling_factor': 1./255},\n",
    "        {'type': 'Conv2D', 'filters': 4, 'kernel_size': 11, 'activation': 'relu'},\n",
    "        {'type': 'MaxPooling2D'},\n",
    "        {'type': 'Conv2D', 'filters': 8, 'kernel_size': 7, 'activation': 'relu'},\n",
    "        {'type': 'MaxPooling2D'},\n",
    "        {'type': 'Flatten'},\n",
    "        {'type': 'Dense', 'units': 20, 'activation': 'relu'},\n",
    "        {'type': 'Dropout', 'rate': 0.3},\n",
    "        {'type': 'Dense', 'units': 4, 'activation': 'softmax'}\n",
    "    ],\n",
    "    \n",
    "    'hyperparams' : \n",
    "        {'optimizer': 'Adam',\n",
    "        'learning_rate': 0.01,\n",
    "        'decay': None,\n",
    "        'batch_size': 64,\n",
    "        'loss_func': 'categorical_crossentropy',\n",
    "        'metrics': 'acc'},\n",
    "    \n",
    "    'training_config' : \n",
    "        {'epochs': 3,\n",
    "         'batch_size': 32,\n",
    "         'class_weights': None}\n",
    "}"
   ]
  },
  {
   "cell_type": "code",
   "execution_count": null,
   "id": "c4b4b1e8",
   "metadata": {},
   "outputs": [],
   "source": [
    "CNN = CNNModel.new_instance(model_parameters)\n",
    "(experimentID, runID) = CNN.mlflow_run(datasets)"
   ]
  },
  {
   "cell_type": "code",
   "execution_count": 3,
   "id": "c96fa8cb",
   "metadata": {},
   "outputs": [
    {
     "name": "stdout",
     "output_type": "stream",
     "text": [
      "Model: \"sequential_1\"\n",
      "_________________________________________________________________\n",
      " Layer (type)                Output Shape              Param #   \n",
      "=================================================================\n",
      " rescaling_1 (Rescaling)     (None, 256, 256, 3)       0         \n",
      "                                                                 \n",
      " conv2d_2 (Conv2D)           (None, 246, 246, 4)       1456      \n",
      "                                                                 \n",
      " max_pooling2d_2 (MaxPoolin  (None, 123, 123, 4)       0         \n",
      " g2D)                                                            \n",
      "                                                                 \n",
      " conv2d_3 (Conv2D)           (None, 117, 117, 8)       1576      \n",
      "                                                                 \n",
      " max_pooling2d_3 (MaxPoolin  (None, 58, 58, 8)         0         \n",
      " g2D)                                                            \n",
      "                                                                 \n",
      " flatten_1 (Flatten)         (None, 26912)             0         \n",
      "                                                                 \n",
      " dense_2 (Dense)             (None, 20)                538260    \n",
      "                                                                 \n",
      " dropout_1 (Dropout)         (None, 20)                0         \n",
      "                                                                 \n",
      " dense_3 (Dense)             (None, 4)                 84        \n",
      "                                                                 \n",
      "=================================================================\n",
      "Total params: 541376 (2.07 MB)\n",
      "Trainable params: 541376 (2.07 MB)\n",
      "Non-trainable params: 0 (0.00 Byte)\n",
      "_________________________________________________________________\n"
     ]
    }
   ],
   "source": [
    "num_classes = 4\n",
    "\n",
    "model = tf.keras.Sequential([\n",
    "  tf.keras.layers.Rescaling(1./255),\n",
    "  tf.keras.layers.Conv2D(4, 11, activation='relu'),\n",
    "  tf.keras.layers.MaxPooling2D(),\n",
    "  tf.keras.layers.Conv2D(8, 7, activation='relu'),\n",
    "  tf.keras.layers.MaxPooling2D(),\n",
    "  tf.keras.layers.Flatten(),\n",
    "  tf.keras.layers.Dense(20, activation='relu', kernel_regularizer='l2'),\n",
    "  tf.keras.layers.Dropout(0.3),\n",
    "  tf.keras.layers.Dense(4, activation = 'softmax')\n",
    "])\n",
    "\n",
    "model.build(input_shape=(None, 256, 256, 3))\n",
    "\n",
    "model.summary()"
   ]
  },
  {
   "cell_type": "code",
   "execution_count": 71,
   "id": "44f4a024",
   "metadata": {},
   "outputs": [],
   "source": [
    "# class_weights = compute_class_weight(class_weight=\"balanced\", classes=np.unique(y_train_original),\n",
    "#                                      y=y_train_original)"
   ]
  }
 ],
 "metadata": {
  "kernelspec": {
   "display_name": "Python 3 (ipykernel)",
   "language": "python",
   "name": "python3"
  },
  "language_info": {
   "codemirror_mode": {
    "name": "ipython",
    "version": 3
   },
   "file_extension": ".py",
   "mimetype": "text/x-python",
   "name": "python",
   "nbconvert_exporter": "python",
   "pygments_lexer": "ipython3",
   "version": "3.11.5"
  }
 },
 "nbformat": 4,
 "nbformat_minor": 5
}
