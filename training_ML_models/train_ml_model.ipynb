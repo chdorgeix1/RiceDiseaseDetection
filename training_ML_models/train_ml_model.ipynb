{
 "cells": [
  {
   "cell_type": "code",
   "execution_count": 7,
   "id": "3228cefe",
   "metadata": {},
   "outputs": [],
   "source": [
    "import numpy as np\n",
    "import tensorflow as tf\n",
    "import os"
   ]
  },
  {
   "cell_type": "code",
   "execution_count": 8,
   "id": "870d0f3a",
   "metadata": {},
   "outputs": [],
   "source": [
    "arr_dir = r'C:\\\\Users\\\\15404\\\\Documents\\\\GitHub\\\\RiceDiseaseDetection\\\\training_ML_models\\\\array_folder'\n",
    "os.chdir(arr_dir)"
   ]
  },
  {
   "cell_type": "code",
   "execution_count": 10,
   "id": "a842c935",
   "metadata": {},
   "outputs": [],
   "source": [
    "train_img_array = np.load(\"train_processed_imgs.npy\")\n",
    "train_label_array = np.load(\"train_labels.npy\")\n",
    "val_img_array = np.load(\"val_processed_imgs.npy\")\n",
    "val_label_array = np.load(\"val_labels.npy\")"
   ]
  },
  {
   "cell_type": "code",
   "execution_count": null,
   "id": "3da492bd",
   "metadata": {},
   "outputs": [],
   "source": []
  }
 ],
 "metadata": {
  "kernelspec": {
   "display_name": "Python 3 (ipykernel)",
   "language": "python",
   "name": "python3"
  },
  "language_info": {
   "codemirror_mode": {
    "name": "ipython",
    "version": 3
   },
   "file_extension": ".py",
   "mimetype": "text/x-python",
   "name": "python",
   "nbconvert_exporter": "python",
   "pygments_lexer": "ipython3",
   "version": "3.11.5"
  }
 },
 "nbformat": 4,
 "nbformat_minor": 5
}
