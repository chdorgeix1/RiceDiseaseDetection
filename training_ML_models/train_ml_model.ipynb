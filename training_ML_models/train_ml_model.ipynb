{
 "cells": [
  {
   "cell_type": "code",
   "execution_count": 116,
   "id": "e094fdeb",
   "metadata": {},
   "outputs": [],
   "source": [
    "import numpy as np\n",
    "import tensorflow as tf\n",
    "import os\n",
    "import sklearn\n",
    "import keras\n",
    "from sklearn.metrics import confusion_matrix\n",
    "from sklearn.utils.class_weight import compute_class_weight"
   ]
  },
  {
   "cell_type": "code",
   "execution_count": 117,
   "id": "0d0b5167",
   "metadata": {},
   "outputs": [],
   "source": [
    "arr_dir = r'C:\\\\Users\\\\15404\\\\Documents\\\\GitHub\\\\RiceDiseaseDetection\\\\training_ML_models\\\\array_folder'\n",
    "os.chdir(arr_dir)"
   ]
  },
  {
   "cell_type": "code",
   "execution_count": 118,
   "id": "aefbf915",
   "metadata": {},
   "outputs": [],
   "source": [
    "X_train = np.load(\"train_processed_imgs.npy\")\n",
    "y_train_original = np.load(\"train_labels.npy\")\n",
    "X_val = np.load(\"val_processed_imgs.npy\")\n",
    "y_val = np.load(\"val_labels.npy\")"
   ]
  },
  {
   "cell_type": "code",
   "execution_count": 119,
   "id": "bc40cb3e",
   "metadata": {},
   "outputs": [],
   "source": [
    "y_true = y_val"
   ]
  },
  {
   "cell_type": "code",
   "execution_count": 120,
   "id": "16acc295",
   "metadata": {},
   "outputs": [],
   "source": [
    "from sklearn.preprocessing import LabelBinarizer\n",
    "label_as_binary = LabelBinarizer()\n",
    "y_train = label_as_binary.fit_transform(y_train_original)\n",
    "y_val = label_as_binary.fit_transform(y_val)"
   ]
  },
  {
   "cell_type": "code",
   "execution_count": 121,
   "id": "5ba734e1",
   "metadata": {},
   "outputs": [],
   "source": [
    "# Prepare the training dataset\n",
    "train_dataset = tf.data.Dataset.from_tensor_slices((X_train, y_train))\n",
    "train_dataset = train_dataset.shuffle(buffer_size=1024).batch(64)\n",
    "\n",
    "# Prepare the validation dataset\n",
    "val_dataset = tf.data.Dataset.from_tensor_slices((X_val, y_val))\n",
    "val_dataset = val_dataset.batch(64)"
   ]
  },
  {
   "cell_type": "code",
   "execution_count": 152,
   "id": "c96fa8cb",
   "metadata": {},
   "outputs": [],
   "source": [
    "num_classes = 4\n",
    "\n",
    "model = tf.keras.Sequential([\n",
    "  tf.keras.layers.Rescaling(1./255),\n",
    "  tf.keras.layers.Conv2D(3, 5, activation='relu'),\n",
    "  tf.keras.layers.MaxPooling2D(),\n",
    "  tf.keras.layers.Conv2D(3, 3, activation='relu'),\n",
    "  tf.keras.layers.MaxPooling2D(),\n",
    "  tf.keras.layers.Conv2D(3, 2, activation='relu'),\n",
    "  tf.keras.layers.MaxPooling2D(),\n",
    "  tf.keras.layers.Flatten(),\n",
    "  tf.keras.layers.Dense(10, activation='relu'),\n",
    "  tf.keras.layers.Dense(4, activation = 'softmax')\n",
    "])"
   ]
  },
  {
   "cell_type": "code",
   "execution_count": 153,
   "id": "2318960f",
   "metadata": {},
   "outputs": [],
   "source": [
    "model.compile(\n",
    "  optimizer = keras.optimizers.Adam(learning_rate=0.001),\n",
    "  loss='categorical_crossentropy',\n"
   ]
  },
  {
   "cell_type": "code",
   "execution_count": 154,
   "id": "44f4a024",
   "metadata": {},
   "outputs": [],
   "source": [
    "class_weights = compute_class_weight(class_weight=\"balanced\", classes=np.unique(y_train_original),\n",
    "                                     y=y_train_original)"
   ]
  },
  {
   "cell_type": "code",
   "execution_count": 155,
   "id": "b116f811",
   "metadata": {},
   "outputs": [
    {
     "name": "stdout",
     "output_type": "stream",
     "text": [
      "[1.60731415 0.56323529 1.48614191 1.0758427 ]\n"
     ]
    }
   ],
   "source": [
    "print(class_weights)"
   ]
  },
  {
   "cell_type": "code",
   "execution_count": 156,
   "id": "6ce43e0d",
   "metadata": {},
   "outputs": [],
   "source": [
    "#class_weight=dict(enumerate(class_weights)), "
   ]
  },
  {
   "cell_type": "code",
   "execution_count": 157,
   "id": "8195eb0c",
   "metadata": {},
   "outputs": [
    {
     "name": "stdout",
     "output_type": "stream",
     "text": [
      "Epoch 1/20\n",
      "84/84 [==============================] - 29s 334ms/step - loss: 1.3798 - accuracy: 0.3819 - val_loss: 1.3519 - val_accuracy: 0.4332\n",
      "Epoch 2/20\n",
      "84/84 [==============================] - 28s 330ms/step - loss: 1.3519 - accuracy: 0.4002 - val_loss: 1.3607 - val_accuracy: 0.3323\n",
      "Epoch 3/20\n",
      "84/84 [==============================] - 28s 328ms/step - loss: 1.3121 - accuracy: 0.4002 - val_loss: 1.4100 - val_accuracy: 0.2493\n",
      "Epoch 4/20\n",
      "84/84 [==============================] - 26s 313ms/step - loss: 1.2622 - accuracy: 0.4028 - val_loss: 1.3540 - val_accuracy: 0.3501\n",
      "Epoch 5/20\n",
      "84/84 [==============================] - 27s 320ms/step - loss: 1.2073 - accuracy: 0.4398 - val_loss: 1.3720 - val_accuracy: 0.3383\n",
      "Epoch 6/20\n",
      "84/84 [==============================] - 26s 309ms/step - loss: 1.1458 - accuracy: 0.4655 - val_loss: 1.4541 - val_accuracy: 0.3234\n",
      "Epoch 7/20\n",
      "84/84 [==============================] - 26s 311ms/step - loss: 1.0976 - accuracy: 0.4938 - val_loss: 1.3958 - val_accuracy: 0.3561\n",
      "Epoch 8/20\n",
      "84/84 [==============================] - 25s 302ms/step - loss: 1.0503 - accuracy: 0.5252 - val_loss: 1.4891 - val_accuracy: 0.3472\n",
      "Epoch 9/20\n",
      "84/84 [==============================] - 27s 324ms/step - loss: 1.0152 - accuracy: 0.5334 - val_loss: 1.4743 - val_accuracy: 0.3561\n",
      "Epoch 10/20\n",
      "84/84 [==============================] - 28s 335ms/step - loss: 0.9708 - accuracy: 0.5550 - val_loss: 1.4510 - val_accuracy: 0.3383\n",
      "Epoch 11/20\n",
      "84/84 [==============================] - 28s 336ms/step - loss: 0.9037 - accuracy: 0.5908 - val_loss: 1.5856 - val_accuracy: 0.3412\n",
      "Epoch 12/20\n",
      "84/84 [==============================] - 28s 333ms/step - loss: 0.8644 - accuracy: 0.6028 - val_loss: 1.6438 - val_accuracy: 0.3531\n",
      "Epoch 13/20\n",
      "84/84 [==============================] - 27s 318ms/step - loss: 0.8183 - accuracy: 0.6281 - val_loss: 1.6421 - val_accuracy: 0.3917\n",
      "Epoch 14/20\n",
      "84/84 [==============================] - 27s 317ms/step - loss: 0.7756 - accuracy: 0.6516 - val_loss: 1.7903 - val_accuracy: 0.3442\n",
      "Epoch 15/20\n",
      "84/84 [==============================] - 26s 306ms/step - loss: 0.7297 - accuracy: 0.6830 - val_loss: 1.8059 - val_accuracy: 0.3531\n",
      "Epoch 16/20\n",
      "84/84 [==============================] - 26s 306ms/step - loss: 0.6822 - accuracy: 0.6941 - val_loss: 1.8010 - val_accuracy: 0.3917\n",
      "Epoch 17/20\n",
      "84/84 [==============================] - 26s 306ms/step - loss: 0.6509 - accuracy: 0.7106 - val_loss: 1.7736 - val_accuracy: 0.3739\n",
      "Epoch 18/20\n",
      "84/84 [==============================] - 26s 308ms/step - loss: 0.6126 - accuracy: 0.7232 - val_loss: 1.9118 - val_accuracy: 0.3680\n",
      "Epoch 19/20\n",
      "84/84 [==============================] - 26s 306ms/step - loss: 0.5448 - accuracy: 0.7628 - val_loss: 1.8423 - val_accuracy: 0.4065\n",
      "Epoch 20/20\n",
      "84/84 [==============================] - 26s 306ms/step - loss: 0.5061 - accuracy: 0.7799 - val_loss: 2.1364 - val_accuracy: 0.3828\n"
     ]
    }
   ],
   "source": [
    "history = model.fit(X_train, y_train, epochs=20, class_weight=dict(enumerate(class_weights)), validation_data=(X_val, y_val))"
   ]
  },
  {
   "cell_type": "code",
   "execution_count": 158,
   "id": "82f3176e",
   "metadata": {},
   "outputs": [
    {
     "name": "stdout",
     "output_type": "stream",
     "text": [
      "11/11 [==============================] - 1s 67ms/step\n"
     ]
    }
   ],
   "source": [
    "y_pred = model.predict(X_val)\n",
    "y_pred = np.argmax(y_pred, axis=1)"
   ]
  },
  {
   "cell_type": "code",
   "execution_count": 159,
   "id": "08bbc736",
   "metadata": {},
   "outputs": [
    {
     "data": {
      "text/plain": [
       "array([[25, 15,  3, 10],\n",
       "       [14, 57, 36, 42],\n",
       "       [ 6, 22, 19, 10],\n",
       "       [12, 24, 14, 28]], dtype=int64)"
      ]
     },
     "execution_count": 159,
     "metadata": {},
     "output_type": "execute_result"
    }
   ],
   "source": [
    "confusion_matrix(y_true, y_pred)"
   ]
  },
  {
   "cell_type": "code",
   "execution_count": 160,
   "id": "98d39d6e",
   "metadata": {},
   "outputs": [
    {
     "name": "stdout",
     "output_type": "stream",
     "text": [
      "84/84 [==============================] - 6s 69ms/step\n"
     ]
    }
   ],
   "source": [
    "y_train_pred = model.predict(X_train)\n",
    "y_train_pred = np.argmax(y_train_pred, axis=1)"
   ]
  },
  {
   "cell_type": "code",
   "execution_count": 162,
   "id": "f28c402e",
   "metadata": {},
   "outputs": [
    {
     "data": {
      "text/plain": [
       "array([[389,  10,   7,  11],\n",
       "       [ 59, 904, 108, 119],\n",
       "       [ 13,  13, 392,  33],\n",
       "       [ 38,  33,  20, 532]], dtype=int64)"
      ]
     },
     "execution_count": 162,
     "metadata": {},
     "output_type": "execute_result"
    }
   ],
   "source": [
    "confusion_matrix(y_train_original, y_train_pred)"
   ]
  },
  {
   "cell_type": "code",
   "execution_count": null,
   "id": "0814f29a",
   "metadata": {},
   "outputs": [],
   "source": []
  }
 ],
 "metadata": {
  "kernelspec": {
   "display_name": "Python 3 (ipykernel)",
   "language": "python",
   "name": "python3"
  },
  "language_info": {
   "codemirror_mode": {
    "name": "ipython",
    "version": 3
   },
   "file_extension": ".py",
   "mimetype": "text/x-python",
   "name": "python",
   "nbconvert_exporter": "python",
   "pygments_lexer": "ipython3",
   "version": "3.11.5"
  }
 },
 "nbformat": 4,
 "nbformat_minor": 5
}
