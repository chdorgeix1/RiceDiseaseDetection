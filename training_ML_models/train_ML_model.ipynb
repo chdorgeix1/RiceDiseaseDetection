{
 "cells": [
  {
   "cell_type": "code",
   "execution_count": 102,
   "id": "82602163",
   "metadata": {},
   "outputs": [],
   "source": [
    "import os\n",
    "import cv2\n",
    "import numpy as np\n",
    "import matplotlib.pyplot as plt\n",
    "\n",
    "from image_preprocessing_scripts import *"
   ]
  },
  {
   "cell_type": "markdown",
   "id": "e0238fa7",
   "metadata": {},
   "source": [
    "### Image Preprocessing\n",
    "- Import Datasets\n",
    "- Create Arrays of Labels\n",
    "- Combine Datasets\n",
    "- Convert Pixel Values\n",
    "- Standard Scaler"
   ]
  },
  {
   "cell_type": "code",
   "execution_count": 103,
   "id": "4d6cc6a6",
   "metadata": {},
   "outputs": [],
   "source": [
    "train_dir = r'C:\\Users\\15404\\Documents\\GitHub\\RiceDiseaseDetection\\rice_data\\training_images\\\\'\n",
    "val_dir = r'C:\\Users\\15404\\Documents\\GitHub\\RiceDiseaseDetection\\rice_data\\validation_images\\\\'\n",
    "img_dirs = ['_Brownspot', '_Healthy', '_Hispa', '_LeafBlast']"
   ]
  },
  {
   "cell_type": "code",
   "execution_count": 104,
   "id": "ce25ed8f",
   "metadata": {
    "scrolled": false
   },
   "outputs": [
    {
     "name": "stdout",
     "output_type": "stream",
     "text": [
      "(0, '_Brownspot')\n",
      "(1, '_Healthy')\n",
      "(2, '_Hispa')\n",
      "(3, '_LeafBlast')\n"
     ]
    }
   ],
   "source": [
    "for img_dir in enumerate(img_dirs):\n",
    "    print(img_dir)"
   ]
  },
  {
   "cell_type": "code",
   "execution_count": 105,
   "id": "51c9c702",
   "metadata": {},
   "outputs": [],
   "source": [
    "train_datasets = import_datasets(train_dir, img_dirs)"
   ]
  },
  {
   "cell_type": "code",
   "execution_count": 106,
   "id": "90cf4124",
   "metadata": {},
   "outputs": [],
   "source": [
    "label_array = create_label_array(train_datasets)"
   ]
  },
  {
   "cell_type": "code",
   "execution_count": 107,
   "id": "b4647ed6",
   "metadata": {},
   "outputs": [],
   "source": [
    "combined_list = combine_lists(train_datasets)"
   ]
  },
  {
   "cell_type": "code",
   "execution_count": 108,
   "id": "00555ca4",
   "metadata": {},
   "outputs": [],
   "source": [
    "combined_arr = lists_to_array(combined_list)"
   ]
  },
  {
   "cell_type": "code",
   "execution_count": 109,
   "id": "cc26217f",
   "metadata": {},
   "outputs": [
    {
     "data": {
      "text/plain": [
       "(2681, 256, 256, 3)"
      ]
     },
     "execution_count": 109,
     "metadata": {},
     "output_type": "execute_result"
    }
   ],
   "source": [
    "combined_arr.shape"
   ]
  },
  {
   "cell_type": "code",
   "execution_count": 110,
   "id": "7497bf51",
   "metadata": {},
   "outputs": [
    {
     "data": {
      "text/plain": [
       "(2681,)"
      ]
     },
     "execution_count": 110,
     "metadata": {},
     "output_type": "execute_result"
    }
   ],
   "source": [
    "label_array.shape"
   ]
  },
  {
   "cell_type": "code",
   "execution_count": null,
   "id": "6cbbaed3",
   "metadata": {},
   "outputs": [],
   "source": []
  }
 ],
 "metadata": {
  "kernelspec": {
   "display_name": "Python 3 (ipykernel)",
   "language": "python",
   "name": "python3"
  },
  "language_info": {
   "codemirror_mode": {
    "name": "ipython",
    "version": 3
   },
   "file_extension": ".py",
   "mimetype": "text/x-python",
   "name": "python",
   "nbconvert_exporter": "python",
   "pygments_lexer": "ipython3",
   "version": "3.11.5"
  }
 },
 "nbformat": 4,
 "nbformat_minor": 5
}
