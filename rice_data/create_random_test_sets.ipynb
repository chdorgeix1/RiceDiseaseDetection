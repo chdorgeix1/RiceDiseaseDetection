{
 "cells": [
  {
   "cell_type": "code",
   "execution_count": 1,
   "id": "1a72126a",
   "metadata": {},
   "outputs": [],
   "source": [
    "import shutil\n",
    "import os"
   ]
  },
  {
   "cell_type": "markdown",
   "id": "17f68152",
   "metadata": {},
   "source": [
    "## Create Training and Test Sets"
   ]
  },
  {
   "cell_type": "markdown",
   "id": "5a00e078",
   "metadata": {},
   "source": [
    "### Create folders in test and training image folders"
   ]
  },
  {
   "cell_type": "code",
   "execution_count": 2,
   "id": "20f66695",
   "metadata": {},
   "outputs": [],
   "source": [
    "original_dir = \"./original_images\""
   ]
  },
  {
   "cell_type": "code",
   "execution_count": 3,
   "id": "2c0b063c",
   "metadata": {},
   "outputs": [],
   "source": [
    "os.chdir(original_dir)\n",
    "folder_list = os.listdir()\n",
    "os.chdir('..')"
   ]
  },
  {
   "cell_type": "code",
   "execution_count": 4,
   "id": "b5cf2590",
   "metadata": {},
   "outputs": [],
   "source": [
    "test_dir = './test_images'\n",
    "train_dir = './training_images'"
   ]
  },
  {
   "cell_type": "code",
   "execution_count": 5,
   "id": "af9f051b",
   "metadata": {},
   "outputs": [],
   "source": [
    "for folder in folder_list:\n",
    "    os.chdir(test_dir)\n",
    "    os.mkdir(folder)\n",
    "    os.chdir('..')\n",
    "    os.chdir(train_dir)\n",
    "    os.mkdir(folder)\n",
    "    os.chdir('..')"
   ]
  },
  {
   "cell_type": "markdown",
   "id": "c5cacef0",
   "metadata": {},
   "source": [
    "### Randomly sample from original images to create 90:10 ratio Training:Test"
   ]
  },
  {
   "cell_type": "code",
   "execution_count": null,
   "id": "17a2f1ca",
   "metadata": {},
   "outputs": [],
   "source": [
    "os.chdir(original_dir)\n",
    "for folder in folder_list:\n",
    "    os.chdir(\"./\" + folder)\n",
    "    "
   ]
  }
 ],
 "metadata": {
  "kernelspec": {
   "display_name": "Python 3 (ipykernel)",
   "language": "python",
   "name": "python3"
  },
  "language_info": {
   "codemirror_mode": {
    "name": "ipython",
    "version": 3
   },
   "file_extension": ".py",
   "mimetype": "text/x-python",
   "name": "python",
   "nbconvert_exporter": "python",
   "pygments_lexer": "ipython3",
   "version": "3.11.5"
  }
 },
 "nbformat": 4,
 "nbformat_minor": 5
}
