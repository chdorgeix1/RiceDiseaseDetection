{
 "cells": [
  {
   "cell_type": "code",
   "execution_count": 1,
   "id": "37ce19d9",
   "metadata": {},
   "outputs": [],
   "source": [
    "import os"
   ]
  },
  {
   "cell_type": "markdown",
   "id": "fec64802",
   "metadata": {},
   "source": [
    "## Change directory and rename healthy images"
   ]
  },
  {
   "cell_type": "code",
   "execution_count": 2,
   "id": "802c749b",
   "metadata": {},
   "outputs": [],
   "source": [
    "original_dir = r\"C:\\Users\\15404\\Documents\\GitHub\\RiceDiseaseDetection\\rice_data\\original_images\""
   ]
  },
  {
   "cell_type": "code",
   "execution_count": 3,
   "id": "06f79bdc",
   "metadata": {},
   "outputs": [],
   "source": [
    "os.chdir(original_dir)"
   ]
  },
  {
   "cell_type": "code",
   "execution_count": 4,
   "id": "e5a8da1f",
   "metadata": {},
   "outputs": [
    {
     "data": {
      "text/plain": [
       "['_BrownSpot', '_Healthy', '_Hispa', '_LeafBlast']"
      ]
     },
     "execution_count": 4,
     "metadata": {},
     "output_type": "execute_result"
    }
   ],
   "source": [
    "os.listdir()"
   ]
  },
  {
   "cell_type": "code",
   "execution_count": 5,
   "id": "d8cacc09",
   "metadata": {},
   "outputs": [],
   "source": [
    "for directory in os.listdir():\n",
    "    os.chdir(original_dir + \"\\\\\" + directory)\n",
    "    for image in os.listdir():\n",
    "        os.rename(image, image.replace(\" \", \"\"))"
   ]
  }
 ],
 "metadata": {
  "kernelspec": {
   "display_name": "Python 3 (ipykernel)",
   "language": "python",
   "name": "python3"
  },
  "language_info": {
   "codemirror_mode": {
    "name": "ipython",
    "version": 3
   },
   "file_extension": ".py",
   "mimetype": "text/x-python",
   "name": "python",
   "nbconvert_exporter": "python",
   "pygments_lexer": "ipython3",
   "version": "3.11.5"
  }
 },
 "nbformat": 4,
 "nbformat_minor": 5
}
