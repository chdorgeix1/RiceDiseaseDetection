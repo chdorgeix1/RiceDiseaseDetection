{
 "cells": [
  {
   "cell_type": "markdown",
   "id": "9a5dfdb5",
   "metadata": {},
   "source": [
    "## Subset Training Images to create Validation Set"
   ]
  },
  {
   "cell_type": "code",
   "execution_count": 2,
   "id": "f1493f37",
   "metadata": {},
   "outputs": [],
   "source": [
    "import shutil\n",
    "import os\n",
    "import glob\n",
    "import random"
   ]
  },
  {
   "cell_type": "markdown",
   "id": "194f57bf",
   "metadata": {},
   "source": [
    "### Create Validation Set Folders"
   ]
  },
  {
   "cell_type": "code",
   "execution_count": 3,
   "id": "2cdabc9e",
   "metadata": {},
   "outputs": [],
   "source": [
    "original_dir = \"./original_images\""
   ]
  },
  {
   "cell_type": "code",
   "execution_count": 4,
   "id": "730fe0a9",
   "metadata": {},
   "outputs": [],
   "source": [
    "os.chdir(original_dir)\n",
    "folder_list = os.listdir()\n",
    "os.chdir('..')"
   ]
  },
  {
   "cell_type": "code",
   "execution_count": 5,
   "id": "3000f8cc",
   "metadata": {},
   "outputs": [],
   "source": [
    "validation_dir = './validation_images'"
   ]
  },
  {
   "cell_type": "code",
   "execution_count": 6,
   "id": "0bbf4c8e",
   "metadata": {},
   "outputs": [],
   "source": [
    "os.mkdir('validation_images')\n",
    "for folder in folder_list:\n",
    "    os.chdir(validation_dir)\n",
    "    os.mkdir(folder)\n",
    "    os.chdir('..')"
   ]
  },
  {
   "cell_type": "code",
   "execution_count": null,
   "id": "36c2988f",
   "metadata": {},
   "outputs": [],
   "source": []
  }
 ],
 "metadata": {
  "kernelspec": {
   "display_name": "Python 3 (ipykernel)",
   "language": "python",
   "name": "python3"
  },
  "language_info": {
   "codemirror_mode": {
    "name": "ipython",
    "version": 3
   },
   "file_extension": ".py",
   "mimetype": "text/x-python",
   "name": "python",
   "nbconvert_exporter": "python",
   "pygments_lexer": "ipython3",
   "version": "3.11.5"
  }
 },
 "nbformat": 4,
 "nbformat_minor": 5
}
