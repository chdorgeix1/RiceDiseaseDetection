{
 "cells": [
  {
   "cell_type": "markdown",
   "id": "7657a5ec",
   "metadata": {},
   "source": [
    "## Subset Training Images to create Validation Set"
   ]
  },
  {
   "cell_type": "code",
   "execution_count": 1,
   "id": "8a274563",
   "metadata": {},
   "outputs": [],
   "source": [
    "import shutil\n",
    "import os\n",
    "import glob\n",
    "import random"
   ]
  },
  {
   "cell_type": "markdown",
   "id": "85d69bd8",
   "metadata": {},
   "source": [
    "### Create Validation Set Folders"
   ]
  },
  {
   "cell_type": "code",
   "execution_count": 2,
   "id": "5ce54201",
   "metadata": {},
   "outputs": [],
   "source": [
    "original_dir = \"./original_images\""
   ]
  },
  {
   "cell_type": "code",
   "execution_count": 3,
   "id": "3b2b156a",
   "metadata": {},
   "outputs": [],
   "source": [
    "os.chdir(original_dir)\n",
    "folder_list = os.listdir()\n",
    "os.chdir('..')"
   ]
  },
  {
   "cell_type": "code",
   "execution_count": 4,
   "id": "ad5085e7",
   "metadata": {},
   "outputs": [],
   "source": [
    "validation_dir = './validation_images'"
   ]
  },
  {
   "cell_type": "code",
   "execution_count": 5,
   "id": "248ff801",
   "metadata": {},
   "outputs": [],
   "source": [
    "os.mkdir('validation_images')\n",
    "for folder in folder_list:\n",
    "    os.chdir(validation_dir)\n",
    "    os.mkdir(folder)\n",
    "    os.chdir('..')"
   ]
  },
  {
   "cell_type": "markdown",
   "id": "41ca6066",
   "metadata": {},
   "source": [
    "## Subset Training Data to produce 90:10 Ratio of Training Images to Validation"
   ]
  },
  {
   "cell_type": "markdown",
   "id": "753daf7d",
   "metadata": {},
   "source": [
    "#### Keep in mind 10% of images have been used for test data so ratio technically needs to be 8/9 to maintain overal 80:10:10 ratio"
   ]
  },
  {
   "cell_type": "code",
   "execution_count": 6,
   "id": "32aef1ef",
   "metadata": {},
   "outputs": [],
   "source": [
    "train_dir = \"./training_Images\"\n",
    "os.chdir(train_dir)\n",
    "folder_list = os.listdir()\n",
    "os.chdir('..')\n",
    "validation_dir = './validation_images'"
   ]
  },
  {
   "cell_type": "code",
   "execution_count": 7,
   "id": "06d935b7",
   "metadata": {},
   "outputs": [],
   "source": [
    "for folder in folder_list:\n",
    "    os.chdir(train_dir)\n",
    "\n",
    "    original_imgs = (glob.glob(folder + \"/*\"))\n",
    "    train_files = random.sample(original_imgs, int(8/9*len(original_imgs)))\n",
    "    val_files = []\n",
    "    for i in original_imgs:\n",
    "        if i not in train_files:\n",
    "            val_files.append(i)\n",
    "    \n",
    "    path_to_files = train_dir +'/'\n",
    "    path_to_val = validation_dir +'/'\n",
    "    os.chdir('..')\n",
    "    \n",
    "    for file in val_files:\n",
    "        file = file.replace('\\\\', '/')\n",
    "        shutil.move(os.path.join(path_to_files, file), os.path.join(path_to_val, file))  "
   ]
  }
 ],
 "metadata": {
  "kernelspec": {
   "display_name": "Python 3 (ipykernel)",
   "language": "python",
   "name": "python3"
  },
  "language_info": {
   "codemirror_mode": {
    "name": "ipython",
    "version": 3
   },
   "file_extension": ".py",
   "mimetype": "text/x-python",
   "name": "python",
   "nbconvert_exporter": "python",
   "pygments_lexer": "ipython3",
   "version": "3.11.5"
  }
 },
 "nbformat": 4,
 "nbformat_minor": 5
}
