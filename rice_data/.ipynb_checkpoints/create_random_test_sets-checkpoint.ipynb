{
 "cells": [
  {
   "cell_type": "code",
   "execution_count": 2,
   "id": "43679c0e",
   "metadata": {},
   "outputs": [],
   "source": [
    "import shutil\n",
    "import os"
   ]
  },
  {
   "cell_type": "markdown",
   "id": "977cb9f9",
   "metadata": {},
   "source": [
    "## Randomly sample from each Image set to create Training and Test Sets"
   ]
  },
  {
   "cell_type": "code",
   "execution_count": 3,
   "id": "e64e958f",
   "metadata": {},
   "outputs": [],
   "source": [
    "original_dir = r\"C:\\Users\\15404\\Documents\\GitHub\\RiceDiseaseDetection\\rice_data\\original_images\""
   ]
  },
  {
   "cell_type": "code",
   "execution_count": null,
   "id": "0dfc694c",
   "metadata": {},
   "outputs": [],
   "source": [
    "os.chdir(original_dir)"
   ]
  },
  {
   "cell_type": "code",
   "execution_count": null,
   "id": "a2487b2a",
   "metadata": {},
   "outputs": [],
   "source": [
    "for directory in os.listdir():\n",
    "    os.chdir(original_dir + \"\\\\\" + directory)\n",
    "    "
   ]
  }
 ],
 "metadata": {
  "kernelspec": {
   "display_name": "Python 3 (ipykernel)",
   "language": "python",
   "name": "python3"
  },
  "language_info": {
   "codemirror_mode": {
    "name": "ipython",
    "version": 3
   },
   "file_extension": ".py",
   "mimetype": "text/x-python",
   "name": "python",
   "nbconvert_exporter": "python",
   "pygments_lexer": "ipython3",
   "version": "3.11.5"
  }
 },
 "nbformat": 4,
 "nbformat_minor": 5
}
